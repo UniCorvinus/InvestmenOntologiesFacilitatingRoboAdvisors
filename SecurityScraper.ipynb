{
 "cells": [
  {
   "cell_type": "code",
   "execution_count": null,
   "metadata": {},
   "outputs": [],
   "source": [
    "import scrapy\n",
    "from scrapy.crawler import CrawlerProcess\n",
    "from scrapy.item import Item"
   ]
  },
  {
   "cell_type": "code",
   "execution_count": null,
   "metadata": {},
   "outputs": [],
   "source": [
    "class SecurityDescription(Item):\n",
    "    title = scrapy.Field()\n",
    "    description = scrapy.Field()"
   ]
  },
  {
   "cell_type": "code",
   "execution_count": null,
   "metadata": {},
   "outputs": [],
   "source": [
    "class SecurityDescriptionSpider(scrapy.Spider):\n",
    "    name=\"SecurityDescriptionSpider\"\n",
    "    \n",
    "    start_urls = [\n",
    "        'https://www.investor.gov/introduction-investing/investing-basics/investment-products/auction-rate-securities',\n",
    "        'https://www.investor.gov/introduction-investing/investing-basics/investment-products/auction-rate-securities',\n",
    "        'https://www.investor.gov/introduction-investing/investing-basics/investment-products/bonds-or-fixed-income-products/bonds',\n",
    "        'https://www.investor.gov/introduction-investing/investing-basics/investment-products/bonds-or-fixed-income-products',\n",
    "        'https://www.investor.gov/introduction-investing/investing-basics/investment-products/bonds-or-fixed-income-products/high',\n",
    "        'https://www.investor.gov/introduction-investing/investing-basics/investment-products/bonds-or-fixed-income-products-0',\n",
    "        'https://www.investor.gov/introduction-investing/investing-basics/investment-products/bonds-or-fixed-income-products/savings',\n",
    "        'https://www.investor.gov/introduction-investing/investing-basics/investment-products/certificates-deposit-cds',\n",
    "        'https://www.investor.gov/introduction-investing/investing-basics/investment-products/commodities',\n",
    "        'https://www.investor.gov/introduction-investing/investing-basics/glossary/529-plans',\n",
    "        'https://www.investor.gov/introduction-investing/investing-basics/investment-products/insurance-products/annuities',\n",
    "        'https://www.investor.gov/introduction-investing/general-resources/news-alerts/alerts-bulletins/investor-bulletins/updated-13',\n",
    "        'https://www.investor.gov/introduction-investing/investing-basics/investment-products/insurance-products/variable-annuities',\n",
    "        'https://www.investor.gov/introduction-investing/investing-basics/investment-products/insurance-products/variable-life',\n",
    "        'https://www.investor.gov/introduction-investing/general-resources/news-alerts/alerts-bulletins/investor-bulletins-16',\n",
    "        'https://www.investor.gov/introduction-investing/investing-basics/investment-products/international-investing',\n",
    "        'https://www.investor.gov/introduction-investing/investing-basics/investment-products/mutual-funds-and-exchange-traded-funds',\n",
    "        'https://www.investor.gov/introduction-investing/investing-basics/investment-products/mutual-funds-and-exchange-traded-0',\n",
    "        'https://www.investor.gov/introduction-investing/investing-basics/investment-products/mutual-funds-and-exchange-traded-2',\n",
    "        'https://www.investor.gov/introduction-investing/investing-basics/investment-products/mutual-funds-and-exchange-traded-4',\n",
    "        'https://www.investor.gov/introduction-investing/investing-basics/investment-products/mutual-funds-and-exchange-traded-5',\n",
    "        'https://www.investor.gov/introduction-investing/investing-basics/investment-products/mutual-funds-and-exchange-traded-1',\n",
    "        'https://www.investor.gov/introduction-investing/investing-basics/investment-products/mutual-funds-and-exchange-traded-3',\n",
    "        'https://www.investor.gov/introduction-investing/investing-basics/investment-products/mutual-funds-and-exchange-traded-6',\n",
    "        'https://www.investor.gov/introduction-investing/investing-basics/glossary/options',\n",
    "        'https://www.investor.gov/introduction-investing/investing-basics/investment-products/private-investment-funds/hedge-funds',\n",
    "        'https://www.investor.gov/introduction-investing/investing-basics/investment-products/private-investment-funds/private-equity',\n",
    "        'https://www.investor.gov/introduction-investing/investing-basics/investment-products/real-estate-investment-trusts-reits',\n",
    "        'https://www.investor.gov/introduction-investing/investing-basics/investment-products/stocks',\n",
    "        'https://www.investor.gov/introduction-investing/investing-basics/investment-products/structured-notes-principal-protection'\n",
    "    ]\n",
    "    \n",
    "    def parse(self, response):\n",
    "        obj = SecurityDescription()\n",
    "        obj['title'] = response.xpath('//*[@id=\"block-investor-content\"]/article/div/div[1]/div[2]/div[1]/span/text()').extract_first(default='N/A')\n",
    "        obj['description'] = response.xpath('//*[@id=\"block-investor-content\"]/article/div/div[1]/div[2]/div[2]/div').extract()\n",
    "        yield obj"
   ]
  },
  {
   "cell_type": "code",
   "execution_count": null,
   "metadata": {},
   "outputs": [],
   "source": [
    "process = CrawlerProcess({\n",
    "    'USER_AGENT': 'Mozilla/4.0 (compatible; MSIE 7.0; Windows NT 5.1)',\n",
    "    \"FEEDS\": {\n",
    "        \"securities.json\": {\"format\": \"json\"}, #set the output filename and format\n",
    "    }\n",
    "})\n",
    "\n",
    "process.crawl(SecurityDescriptionSpider)\n",
    "process.start() "
   ]
  }
 ],
 "metadata": {
  "kernelspec": {
   "display_name": "Python 3",
   "language": "python",
   "name": "python3"
  },
  "language_info": {
   "codemirror_mode": {
    "name": "ipython",
    "version": 3
   },
   "file_extension": ".py",
   "mimetype": "text/x-python",
   "name": "python",
   "nbconvert_exporter": "python",
   "pygments_lexer": "ipython3",
   "version": "3.7.9"
  }
 },
 "nbformat": 4,
 "nbformat_minor": 4
}
