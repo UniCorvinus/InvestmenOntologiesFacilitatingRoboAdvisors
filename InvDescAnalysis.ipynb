{
 "cells": [
  {
   "cell_type": "code",
   "execution_count": null,
   "metadata": {},
   "outputs": [],
   "source": [
    "import pandas as pd\n",
    "import textdistance\n",
    "import json\n",
    "import re\n",
    "import unicodedata\n",
    "import stanza\n",
    "from sklearn.feature_extraction.text import TfidfVectorizer\n",
    "\n",
    "stanza.download('en') \n",
    "nlp = stanza.Pipeline('en') "
   ]
  },
  {
   "cell_type": "code",
   "execution_count": null,
   "metadata": {},
   "outputs": [],
   "source": [
    "# 0 <= acceptance <=1 \n",
    "#the higher ts is the more similar attr and freqPh\n",
    "def text_similarity(similarityObject, attributes, frequentPhrases, acceptance):\n",
    "    results = []\n",
    "    for attr in attributes:\n",
    "        for freqPh in frequentPhrases:\n",
    "            ts = similarityObject.normalized_similarity(attr, freqPh)\n",
    "            if(ts > acceptance):\n",
    "                results.append((attr, freqPh, ts))\n",
    "    return results\n",
    "                \n",
    "def ngrams(input, maxLength):\n",
    "    input = input.split(' ')\n",
    "    output = []\n",
    "    for n in range(1, maxLength+1):\n",
    "        for i in range(len(input)-n+1):\n",
    "            output.append(input[i:i+n])\n",
    "    return [' '.join(word) for word in output]"
   ]
  },
  {
   "cell_type": "code",
   "execution_count": null,
   "metadata": {},
   "outputs": [],
   "source": [
    "investment_attr = [\"availability\",\"expected return\",\"factors affecting returns\",\"form financing\",\"intermediary platform\",\"regulatory environment\",\"risk\",\"portfolio diversification\",\"time\"]\n",
    "json_file = r'securities.json' #set the file path of the security descriptions \n",
    "\n",
    "regexes = [\n",
    "    re.compile(r\" +\"),\n",
    "    re.compile(r\"</?\\w[^>]*>\"),\n",
    "    re.compile(r\"<.*>\")\n",
    "]\n",
    "\n",
    "#load the data from the json file into an array of Investment objects\n",
    "with open(json_file) as json_data:\n",
    "    data = json.load(json_data)\n",
    "    \n",
    "class Investment:\n",
    "    def __init__(self, title, description):\n",
    "        self.title = title\n",
    "        self.description = description\n",
    "        \n",
    "investments = []\n",
    "    \n",
    "for investment in data:    \n",
    "    inv = Investment(investment['title'], investment['description'])\n",
    "    investments.append(inv)"
   ]
  },
  {
   "cell_type": "code",
   "execution_count": null,
   "metadata": {},
   "outputs": [],
   "source": [
    "#pre-process the investment descriptions\n",
    "for investment in investments:\n",
    "    #remove html\n",
    "    investment.description = re.sub(regexes[1], ' ', ' '.join(investment.description))\n",
    "    investment.description = re.sub(regexes[2], ' ', investment.description)\n",
    "    #filtering control characters\n",
    "    investment.description = ''.join(ch for ch in investment.description if unicodedata.category(ch)[0]!=\"C\")\n",
    "    #remove multiple whitespaces\n",
    "    investment.description = re.sub(regexes[0], ' ', investment.description)"
   ]
  },
  {
   "cell_type": "code",
   "execution_count": null,
   "metadata": {},
   "outputs": [],
   "source": [
    "for i, investment in enumerate(investments):\n",
    "    clearDescription= []\n",
    "    nlpResult = nlp(investment.description)\n",
    "    for sentence in nlpResult.sentences:\n",
    "        cleanSentence = []\n",
    "        for word in sentence.words:\n",
    "            if(word.upos != \"PUNCT\"):\n",
    "                cleanSentence.append(word.lemma) #here change word.text to word.lemma for the corresponding and vice versa.\n",
    "        clearDescription.append(\" \".join(word for word in cleanSentence))\n",
    "    investment.description = clearDescription"
   ]
  },
  {
   "cell_type": "code",
   "execution_count": null,
   "metadata": {},
   "outputs": [],
   "source": [
    "#create lemmas from investment attributes from the ontology\n",
    "investment_attr_lemmas = []\n",
    "for attr in investment_attr:\n",
    "    nlpResult = nlp(attr)\n",
    "    for sentence in nlpResult.sentences:\n",
    "        cleanSentence = []\n",
    "        for word in sentence.words:\n",
    "            cleanSentence.append(word.lemma)\n",
    "        investment_attr_lemmas.append(\" \".join(word for word in cleanSentence))\n",
    "print(investment_attr_lemmas)\n",
    "    "
   ]
  },
  {
   "cell_type": "code",
   "execution_count": null,
   "metadata": {},
   "outputs": [],
   "source": [
    "#for Token based methods, for splitting sentences by words and not q-grams use qval=None as a constructur parameter e.g. Cosine(qval=None)\n",
    "#read the manual: https://github.com/life4/textdistance\n",
    "result = []\n",
    "for investment in investments:\n",
    "    for sentence in investment.description:\n",
    "        similarityResult = text_similarity(textdistance.RatcliffObershelp(), investment_attr_lemmas, ngrams(sentence, 4), 0.59) \n",
    "        if(similarityResult):\n",
    "            for similarities in similarityResult:\n",
    "                result.append([investment.title, sentence, similarities[0], similarities[1], similarities[2]])\n",
    "similarities = pd.DataFrame(result, columns=['investment title', 'surrounding sentence', 'ontology attribute', 'similar pair', 'RatcliffObershelp'])\n",
    "similarities.to_csv('attr_instrument_similarities_RatcliffObershelp_059.csv')"
   ]
  },
  {
   "cell_type": "code",
   "execution_count": null,
   "metadata": {},
   "outputs": [],
   "source": [
    "vectorizer = TfidfVectorizer(stop_words='english', ngram_range=(1, 3))\n",
    "\n",
    "tfidf_corpus = []\n",
    "for investment in investments:\n",
    "   tfidf_corpus.append(' '.join(sentence for sentence in investment.description))\n",
    "\n",
    "vectors = vectorizer.fit_transform(tfidf_corpus)\n",
    "feature_names = vectorizer.get_feature_names()\n",
    "dense = vectors.todense()\n",
    "denselist = dense.tolist()\n",
    "df = pd.DataFrame(denselist, columns=feature_names, index=[investment.title for investment in investments])\n",
    "dfFiltered = df[df.columns[(df >= 0.25).any()]]\n",
    "dfFiltered.to_csv('instruments_tfidf_vectors_025threshold.csv', sep='|')"
   ]
  }
 ],
 "metadata": {
  "kernelspec": {
   "display_name": "Python 3",
   "language": "python",
   "name": "python3"
  },
  "language_info": {
   "codemirror_mode": {
    "name": "ipython",
    "version": 3
   },
   "file_extension": ".py",
   "mimetype": "text/x-python",
   "name": "python",
   "nbconvert_exporter": "python",
   "pygments_lexer": "ipython3",
   "version": "3.7.9"
  }
 },
 "nbformat": 4,
 "nbformat_minor": 4
}
